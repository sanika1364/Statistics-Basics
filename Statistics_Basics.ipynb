{
  "nbformat": 4,
  "nbformat_minor": 0,
  "metadata": {
    "colab": {
      "provenance": []
    },
    "kernelspec": {
      "name": "python3",
      "display_name": "Python 3"
    },
    "language_info": {
      "name": "python"
    }
  },
  "cells": [
    {
      "cell_type": "markdown",
      "source": [
        "Statistics Basics"
      ],
      "metadata": {
        "id": "Gy9wi8bapcy5"
      }
    },
    {
      "cell_type": "markdown",
      "source": [
        "\n",
        "Question 1: What is the difference between descriptive statistics and inferential statistics? Explain with examples.\n",
        "\n",
        " - Descriptive statistics summarize and describe the characteristics of a dataset. They help organize and present data in a meaningful way, but they do not make any conclusions beyond the data being analyzed. Examples include measures of central tendency (mean, median, mode) and measures of variability (range, variance, standard deviation).\n",
        "\n",
        " - Example: A teacher calculates the average test score for a class. This average is a descriptive statistic that summarizes the typical performance of the students in that specific class.\n",
        "\n",
        " - Inferential statistics, on the other hand, use sample data to make inferences or predictions about a larger population. They involve hypothesis testing, estimating parameters, and determining relationships between variables.\n",
        "\n",
        " - Example: A researcher surveys a sample of voters to predict the outcome of an election for the entire population of voters. The prediction about the election outcome is an inference based on the sample data.\n",
        "\n",
        " - In short, descriptive statistics describe the data you have, while inferential statistics help you make generalizations or draw conclusions about a larger group based on that data.\n",
        "\n",
        "Question 2: What is sampling in statistics? Explain the differences between random and stratified sampling.\n",
        "\n",
        "- Sampling in statistics is the process of selecting a representative subset of individuals or observations from a larger population to gather data and make inferences about the entire population. Because it's often impractical or impossible to study every member of a population, sampling allows researchers to collect data from a smaller group and use that data to draw conclusions about the larger group.\n",
        "\n",
        " - There are various sampling methods, each with its own advantages and disadvantages. Two common methods are random sampling and stratified sampling:\n",
        "\n",
        " - Random Sampling (Simple Random Sampling): In simple random sampling, every member of the population has an equal chance of being selected for the sample. This method helps to ensure that the sample is representative of the population and reduces the likelihood of sampling bias.\n",
        "\n",
        " - Example: Imagine you have a list of all students in a school. To conduct a simple random sample, you could assign each student a number and then use a random number generator to select a certain number of students for your sample.\n",
        "\n",
        " - Stratified Sampling: Stratified sampling involves dividing the population into subgroups (strata) based on shared characteristics (e.g., age, gender, income, location). Then, a random sample is taken from each stratum. This method is useful when you want to ensure that certain subgroups are represented in the sample in proportion to their size in the population, or when you want to analyze differences between subgroups.\n",
        "\n",
        " - Example: If you are conducting a survey about study habits and want to ensure representation from each grade level in a school, you could divide the students into strata based on their grade (e.g., 9th grade, 10th grade, 11th grade, 12th grade). Then, you would randomly select a proportional number of students from each grade to be included in your sample.\n",
        "\n",
        " - In summary, random sampling gives every individual an equal chance of being selected, while stratified sampling divides the population into subgroups and then randomly samples from within each subgroup to ensure representation of those subgroups.\n",
        "\n",
        "Question 3: Define mean, median, and mode. Explain why these measures of central\n",
        "tendency are important.\n",
        "\n",
        " - Mean, Median, and Mode are all measures of central tendency, which are single values that attempt to describe a set of data by identifying the central position within that set of data. They are important because they provide a quick and simple way to summarize and understand the typical value in a dataset.\n",
        "\n",
        " - Mean (Average): The mean is calculated by summing all the values in a dataset and then dividing by the number of values. It is the most common measure of central tendency but can be affected by extreme values (outliers).\n",
        "\n",
        " - Importance: The mean is useful for calculating the average value of a set of numbers and is often used in further statistical calculations.\n",
        "\n",
        " - Median: The median is the middle value in a dataset that has been ordered from least to greatest. If there is an even number of values, the median is the average of the two middle values. The median is less affected by outliers than the mean.\n",
        "\n",
        " - Importance: The median is a good measure of the typical value when the data is skewed or contains outliers, as it represents the true middle point of the data.\n",
        "\n",
        " - Mode: The mode is the value that appears most frequently in a dataset. A dataset can have one mode (unimodal), more than one mode (multimodal), or no mode.\n",
        "\n",
        " - Importance: The mode is useful for identifying the most common category or value in a dataset, especially for categorical data.\n",
        "\n",
        " - In summary:\n",
        "\n",
        "     - Mean: The average.\n",
        "    - Median: The middle value.\n",
        "    - Mode: The most frequent value.\n",
        "\n",
        " - These measures are important because they provide different perspectives on the center of a dataset, helping us to understand the typical value and the distribution of the data. Choosing which measure to use depends on the type of data and the goal of the analysis.\n",
        "\n",
        "Question 4: Explain skewness and kurtosis. What does a positive skew imply about the data?\n",
        "\n",
        " - Skewness and kurtosis are measures that describe the shape of a probability distribution of a dataset. They provide insights beyond the measures of central tendency and variability.\n",
        "\n",
        " - Skewness: Skewness measures the asymmetry of the probability distribution. It indicates the extent to which the data is skewed to one side.\n",
        "\n",
        "    - Positive Skew (Right Skew): A positive skew means the tail of the distribution is longer on the right side. This implies that there are more extreme values (outliers) on the higher end of the data. In a positively skewed distribution, the mean is typically greater than the median, which is greater than the mode (Mean > Median > Mode).\n",
        "    \n",
        "    - Negative Skew (Left Skew): A negative skew means the tail of the distribution is longer on the left side. This implies that there are more extreme values (outliers) on the lower end of the data. In a negatively skewed distribution, the mean is typically less than the median, which is less than the mode (Mean < Median < Mode).\n",
        "\n",
        "    - Zero Skew: A zero skew indicates a perfectly symmetrical distribution, like a normal distribution, where the mean, median, and mode are all equal.\n",
        "\n",
        " - Kurtosis: Kurtosis measures the \"tailedness\" of the probability distribution. It describes how much of the data is concentrated in the tails and how sharp or flat the peak of the distribution is.\n",
        "\n",
        "    - Leptokurtic: A distribution with high kurtosis has heavy tails and a sharp peak. This means there are more outliers than in a normal distribution.\n",
        "\n",
        "    - Mesokurtic: A distribution with mesokurtosis has tails similar to a normal distribution. The normal distribution itself is mesokurtic.\n",
        "\n",
        "    - Platykurtic: A distribution with low kurtosis has light tails and a flat peak. This means there are fewer outliers than in a normal distribution.\n",
        "\n",
        " - What does a positive skew imply about the data?\n",
        "\n",
        "- A positive skew implies that the majority of the data is concentrated on the left side of the distribution, with a longer tail extending to the right. This means that there are some unusually high values in the dataset that are pulling the mean towards the higher end. For example, if you were looking at income data for a city, a positive skew would indicate that most residents have lower to middle incomes, but there are a few individuals with very high incomes.\n",
        "\n"
      ],
      "metadata": {
        "id": "Wlh6mvrkp_Wq"
      }
    },
    {
      "cell_type": "code",
      "source": [
        "# Question 5: Implement a Python program to compute the mean, median, and mode of a given list of numbers.\n",
        "#numbers = [12, 15, 12, 18, 19, 12, 20, 22, 19, 19, 24, 24, 24, 26, 28]\n",
        "\n",
        "import statistics\n",
        "from collections import Counter\n",
        "\n",
        "numbers = [12, 15, 12, 18, 19, 12, 20, 22, 19, 19, 24, 24, 24, 26, 28]\n",
        "\n",
        "# Calculate the mean\n",
        "mean_value = statistics.mean(numbers)\n",
        "print(f\"Mean: {mean_value}\")\n",
        "\n",
        "# Calculate the median\n",
        "median_value = statistics.median(numbers)\n",
        "print(f\"Median: {median_value}\")\n",
        "\n",
        "# Calculate the mode\n",
        "# Use Counter to find the frequency of each number\n",
        "data_counts = Counter(numbers)\n",
        "# Find the highest frequency\n",
        "max_freq = max(data_counts.values())\n",
        "# Find all numbers with the highest frequency (for multimodal datasets)\n",
        "mode_values = [num for num, freq in data_counts.items() if freq == max_freq]\n",
        "\n",
        "# Check if all numbers have the same frequency (no unique mode)\n",
        "if len(mode_values) == len(numbers):\n",
        "    print(\"Mode: No unique mode (all numbers appear once)\")\n",
        "else:\n",
        "    print(f\"Mode: {mode_values}\")\n"
      ],
      "metadata": {
        "colab": {
          "base_uri": "https://localhost:8080/"
        },
        "id": "bXVrNXjKy9oI",
        "outputId": "8ef6d8ef-b471-4839-e15f-0504705b6afc"
      },
      "execution_count": 2,
      "outputs": [
        {
          "output_type": "stream",
          "name": "stdout",
          "text": [
            "Mean: 19.6\n",
            "Median: 19\n",
            "Mode: [12, 19, 24]\n"
          ]
        }
      ]
    },
    {
      "cell_type": "code",
      "source": [
        "# Question 6: Compute the covariance and correlation coefficient between the following two datasets provided as lists in Python:\n",
        "#list_x = [10, 20, 30, 40, 50]\n",
        "#list_y = [15, 25, 35, 45, 60]\n",
        "\n",
        "import numpy as np\n",
        "\n",
        "list_x = [10, 20, 30, 40, 50]\n",
        "list_y = [15, 25, 35, 45, 60]\n",
        "\n",
        "# Convert lists to NumPy arrays for easier calculation\n",
        "np_x = np.array(list_x)\n",
        "np_y = np.array(list_y)\n",
        "\n",
        "# Compute the covariance matrix\n",
        "covariance_matrix = np.cov(np_x, np_y)\n",
        "\n",
        "# The covariance between x and y is the off-diagonal element\n",
        "covariance = covariance_matrix[0, 1]\n",
        "\n",
        "print(f\"Covariance between list_x and list_y: {covariance}\")\n",
        "\n",
        "# Compute the correlation coefficient\n",
        "correlation_coefficient = np.corrcoef(np_x, np_y)[0, 1]\n",
        "\n",
        "print(f\"Correlation coefficient between list_x and list_y: {correlation_coefficient}\")"
      ],
      "metadata": {
        "colab": {
          "base_uri": "https://localhost:8080/"
        },
        "id": "r7moPgnCz3Ox",
        "outputId": "931c596e-fbd9-4ed2-aa3c-62e119b494e6"
      },
      "execution_count": 3,
      "outputs": [
        {
          "output_type": "stream",
          "name": "stdout",
          "text": [
            "Covariance between list_x and list_y: 275.0\n",
            "Correlation coefficient between list_x and list_y: 0.995893206467704\n"
          ]
        }
      ]
    },
    {
      "cell_type": "code",
      "metadata": {
        "colab": {
          "base_uri": "https://localhost:8080/",
          "height": 671
        },
        "id": "e77ce2e1",
        "outputId": "1f6ae2c9-2946-413c-8468-c829ac2d3f4e"
      },
      "source": [
        "#Question 7: Write a Python script to draw a boxplot for the following numeric list and identify its outliers. Explain the result:\n",
        "#data = [12, 14, 14, 15, 18, 19, 19, 21, 22, 22, 23, 23, 24, 26, 29, 35]\n",
        "\n",
        "import matplotlib.pyplot as plt\n",
        "import numpy as np\n",
        "\n",
        "data = [12, 14, 14, 15, 18, 19, 19, 21, 22, 22, 23, 23, 24, 26, 29, 35]\n",
        "\n",
        "# Create a boxplot\n",
        "plt.figure(figsize=(8, 6))\n",
        "plt.boxplot(data, vert=False, patch_artist=True, showfliers=True)\n",
        "plt.title('Boxplot of the Data')\n",
        "plt.xlabel('Values')\n",
        "plt.show()\n",
        "\n",
        "# Identify outliers using the IQR method\n",
        "Q1 = np.percentile(data, 25)\n",
        "Q3 = np.percentile(data, 75)\n",
        "IQR = Q3 - Q1\n",
        "\n",
        "lower_bound = Q1 - 1.5 * IQR\n",
        "upper_bound = Q3 + 1.5 * IQR\n",
        "\n",
        "outliers = [x for x in data if x < lower_bound or x > upper_bound]\n",
        "\n",
        "print(f\"Q1 (25th percentile): {Q1}\")\n",
        "print(f\"Q3 (75th percentile): {Q3}\")\n",
        "print(f\"IQR (Interquartile Range): {IQR}\")\n",
        "print(f\"Lower Bound for Outliers: {lower_bound}\")\n",
        "print(f\"Upper Bound for Outliers: {upper_bound}\")\n",
        "print(f\"Identified Outliers: {outliers}\")"
      ],
      "execution_count": 5,
      "outputs": [
        {
          "output_type": "display_data",
          "data": {
            "text/plain": [
              "<Figure size 800x600 with 1 Axes>"
            ],
            "image/png": "[encoded data removed]"
          },
          "metadata": {}
        },
        {
          "output_type": "stream",
          "name": "stdout",
          "text": [
            "Q1 (25th percentile): 17.25\n",
            "Q3 (75th percentile): 23.25\n",
            "IQR (Interquartile Range): 6.0\n",
            "Lower Bound for Outliers: 8.25\n",
            "Upper Bound for Outliers: 32.25\n",
            "Identified Outliers: [35]\n"
          ]
        }
      ]
    },
    {
      "cell_type": "markdown",
      "metadata": {
        "id": "4774662c"
      },
      "source": [
        "**Explanation of the Boxplot and Results:**\n",
        "\n",
        "The boxplot visually represents the distribution of the data and helps identify potential outliers.\n",
        "\n",
        "*   The **box** in the boxplot represents the interquartile range (IQR), which is the middle 50% of the data. The bottom edge of the box is the first quartile (Q1), and the top edge is the third quartile (Q3).\n",
        "*   The **line inside the box** represents the median (Q2).\n",
        "*   The **whiskers** extend from the box to the minimum and maximum values within 1.5 times the IQR from the box edges.\n",
        "*   **Points outside the whiskers** are considered potential outliers.\n",
        "\n",
        "**Identifying Outliers using the IQR Method:**\n",
        "\n",
        "Outliers are typically defined as values that fall below `Q1 - 1.5 * IQR` or above `Q3 + 1.5 * IQR`.\n",
        "\n",
        "*   **Q1 (25th percentile):** This is the value below which 25% of the data falls.\n",
        "*   **Q3 (75th percentile):** This is the value below which 75% of the data falls.\n",
        "*   **IQR (Interquartile Range):** This is the difference between Q3 and Q1 (Q3 - Q1). It represents the spread of the middle 50% of the data.\n",
        "*   **Lower Bound for Outliers:** Any data point below this value is considered a potential outlier.\n",
        "*   **Upper Bound for Outliers:** Any data point above this value is considered a potential outlier.\n",
        "*   **Identified Outliers:** This list shows the data points from your list that meet the criteria for being an outlier based on the IQR method.\n",
        "\n",
        "In the boxplot generated and the outlier detection using the IQR method, the value(s) identified in the \"Identified Outliers\" list are considered outliers for this dataset. The boxplot visually shows this as points outside the whiskers."
      ]
    },
    {
      "cell_type": "code",
      "source": [
        "#Question 8: You are working as a data analyst in an e-commerce company. The marketing team wants to know if there is a relationship between advertising spend and daily sales.\n",
        "#● Explain how you would use covariance and correlation to explore this relationship.\n",
        "#● Write Python code to compute the correlation between the two lists:\n",
        "#advertising_spend = [200, 250, 300, 400, 500]\n",
        "#daily_sales = [2200, 2450, 2750, 3200, 4000]\n",
        "\n",
        "#2.Write Python code to compute the correlation between the two lists:\n",
        "#advertising_spend = [200, 250, 300, 400, 500]\n",
        "#daily_sales = [2200, 2450, 2750, 3200, 4000]\n",
        "\n",
        "import numpy as np\n",
        "\n",
        "advertising_spend = [200, 250, 300, 400, 500]\n",
        "daily_sales = [2200, 2450, 2750, 3200, 4000]\n",
        "\n",
        "# Convert lists to NumPy arrays\n",
        "np_advertising_spend = np.array(advertising_spend)\n",
        "np_daily_sales = np.array(daily_sales)\n",
        "\n",
        "# Compute the correlation coefficient\n",
        "correlation_coefficient = np.corrcoef(np_advertising_spend, np_daily_sales)[0, 1]\n",
        "\n",
        "print(f\"Correlation coefficient between advertising spend and daily sales: {correlation_coefficient}\")"
      ],
      "metadata": {
        "colab": {
          "base_uri": "https://localhost:8080/"
        },
        "id": "gWleScsi1Ci2",
        "outputId": "5325bb42-cc6b-4d0e-b80e-98dd5bcfaaa1"
      },
      "execution_count": 6,
      "outputs": [
        {
          "output_type": "stream",
          "name": "stdout",
          "text": [
            "Correlation coefficient between advertising spend and daily sales: 0.9935824101653329\n"
          ]
        }
      ]
    },
    {
      "cell_type": "markdown",
      "source": [
        "1.Explaining the Relationship between Advertising Spend and Daily Sales using Covariance and Correlation:\n",
        "\n",
        "As a data analyst, you can use covariance and correlation to investigate the relationship between advertising spend and daily sales for the e-commerce company's marketing team.\n",
        "\n",
        " - Covariance: Covariance measures the extent to which two variables change together.\n",
        "\n",
        " - A positive covariance indicates that as one variable increases, the other variable tends to increase as well. In this context, a positive covariance would suggest that higher advertising spend is associated with higher daily sales.\n",
        "\n",
        " - A negative covariance indicates that as one variable increases, the other variable tends to decrease. A negative covariance here would suggest that higher advertising spend is associated with lower daily sales (which would be unusual in this scenario).\n",
        "\n",
        " - A covariance close to zero suggests a weak or no linear relationship between the two variables.\n",
        "\n",
        " - While covariance tells you the direction of the relationship (positive or negative), its magnitude is influenced by the scale of the variables. This makes it difficult to compare covariances between different pairs of variables.\n",
        "\n",
        " - Correlation Coefficient: The correlation coefficient is a standardized measure of the linear relationship between two variables. It is calculated by dividing the covariance by the product of the standard deviations of the two variables. The correlation coefficient ranges from -1 to +1.\n",
        "\n",
        "    - A correlation coefficient close to +1 indicates a strong positive linear relationship. This would mean that as advertising spend increases, daily sales strongly tend to increase.\n",
        "    - A correlation coefficient close to -1 indicates a strong negative linear relationship.\n",
        "    - A correlation coefficient close to 0 indicates a weak or no linear relationship.\n",
        "    - The correlation coefficient is more useful than covariance for understanding the strength and direction of the relationship because it is not affected by the scale of the variables. It allows for easy comparison of the strength of relationships between different pairs of variables.\n"
      ],
      "metadata": {
        "id": "F1rkNOGgOBW3"
      }
    },
    {
      "cell_type": "markdown",
      "source": [
        "Question 9: Your team has collected customer satisfaction survey data on a scale of\n",
        "1-10 and wants to understand its distribution before launching a new product.\n",
        "\n",
        "● Explain which summary statistics and visualizations (e.g. mean, standard\n",
        "deviation, histogram) you’d use.\n",
        "\n",
        "● Write Python code to create a histogram using Matplotlib for the survey data:\n",
        "survey_scores = [7, 8, 5, 9, 6, 7, 8, 9, 10, 4, 7, 6, 9, 8, 7]"
      ],
      "metadata": {
        "id": "uDR0wZvjSXeH"
      }
    },
    {
      "cell_type": "markdown",
      "metadata": {
        "id": "e3a06cc3"
      },
      "source": [
        "**Analyzing Customer Satisfaction Survey Data Distribution:**\n",
        "\n",
        "To understand the distribution of your customer satisfaction survey data (on a scale of 1-10) before launching a new product, you would typically use a combination of summary statistics and visualizations.\n",
        "\n",
        "**Summary Statistics:**\n",
        "\n",
        "*   **Mean:** Provides the average satisfaction score. This gives a single value representing the typical satisfaction level.\n",
        "*   **Median:** Represents the middle score when the data is ordered. This is less affected by extreme scores (outliers) than the mean and is useful for understanding the central point of the data.\n",
        "*   **Mode:** Shows the most frequent satisfaction score. This indicates which score was given by the largest number of customers.\n",
        "*   **Standard Deviation:** Measures the spread or variability of the scores around the mean. A higher standard deviation indicates a wider range of responses, while a lower standard deviation suggests scores are clustered closer to the mean.\n",
        "*   **Minimum and Maximum:** These values show the lowest and highest scores received, giving you the full range of responses.\n",
        "*   **Percentiles (e.g., 25th, 75th):** These can help you understand the distribution of scores in more detail, showing you the points below which a certain percentage of the data falls.\n",
        "\n",
        "**Visualizations:**\n",
        "\n",
        "*   **Histogram:** This is an excellent visualization for understanding the distribution of numerical data. It shows the frequency of scores within different bins (ranges). A histogram will quickly reveal the shape of the distribution (e.g., whether it's skewed, has multiple peaks) and where most of the responses fall.\n",
        "*   **Boxplot:** While we've already discussed boxplots for outlier detection, they are also useful for visualizing the distribution, showing the median, quartiles, and potential outliers.\n",
        "*   **Density Plot:** This provides a smoothed representation of the distribution and can be helpful for comparing the distribution of different groups.\n",
        "\n",
        "**Choosing the Right Tools:**\n",
        "\n",
        "For your customer satisfaction data, the **mean, median, mode, standard deviation, minimum, maximum, and percentiles** would give you a good statistical summary. A **histogram** would be a crucial visualization to see the overall shape of the distribution and identify any patterns or concentrations of scores.\n",
        "\n",
        "Now, here is the Python code to create a histogram for your survey data:"
      ]
    },
    {
      "cell_type": "code",
      "metadata": {
        "colab": {
          "base_uri": "https://localhost:8080/",
          "height": 564
        },
        "id": "592b84f1",
        "outputId": "89ef93c7-ab42-48ac-db31-e270bc1e4fb5"
      },
      "source": [
        "import matplotlib.pyplot as plt\n",
        "\n",
        "survey_scores = [7, 8, 5, 9, 6, 7, 8, 9, 10, 4, 7, 6, 9, 8, 7]\n",
        "\n",
        "# Create a histogram\n",
        "plt.figure(figsize=(8, 6))\n",
        "plt.hist(survey_scores, bins=np.arange(min(survey_scores), max(survey_scores) + 1.5) - 0.5, rwidth=0.8) # Adjust bins to center around integer scores\n",
        "plt.title('Distribution of Customer Satisfaction Survey Scores')\n",
        "plt.xlabel('Satisfaction Score (1-10)')\n",
        "plt.ylabel('Frequency')\n",
        "plt.xticks(range(min(survey_scores), max(survey_scores) + 1)) # Ensure integer ticks on x-axis\n",
        "plt.grid(axis='y', alpha=0.75)\n",
        "plt.show()"
      ],
      "execution_count": 7,
      "outputs": [
        {
          "output_type": "display_data",
          "data": {
            "text/plain": [
              "<Figure size 800x600 with 1 Axes>"
            ],
            "image/png": "[encoded data removed]"
          },
          "metadata": {}
        }
      ]
    }
  ]
}